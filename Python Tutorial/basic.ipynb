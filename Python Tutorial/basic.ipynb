{
 "cells": [
  {
   "cell_type": "code",
   "execution_count": null,
   "metadata": {},
   "outputs": [],
   "source": []
  }
 ],
 "metadata": {
  "kernelspec": {
   "display_name": "base",
   "language": "python",
   "name": "python3"
  },
  "language_info": {
   "name": "python",
   "version": "3.9.12"
  },
  "orig_nbformat": 4,
  "vscode": {
   "interpreter": {
    "hash": "d4b41ff863b441b81942c2f896a6036e870e8ebd74dc97e92c9a1895e43c1914"
   }
  }
 },
 "nbformat": 4,
 "nbformat_minor": 2
}
